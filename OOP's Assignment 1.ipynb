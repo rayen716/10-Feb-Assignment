{
 "cells": [
  {
   "cell_type": "code",
   "execution_count": null,
   "id": "a14c1122",
   "metadata": {},
   "outputs": [],
   "source": [
    "Q1. Which function is used to open a file? What are the different modes of opening a file? Explain each mode of file opening?\n",
    "Ans1. The open() function is used to open a file in Python. The open() function returns a file object that can be used to read, write, and manipulate the file.\n",
    "\n",
    "The different modes of opening a file are:\n",
    "\n",
    "r (Read mode): This mode is used to open a file for reading. The file pointer is placed at the beginning of the file. If the file does not exist, an error is raised.\n",
    "w (Write mode): This mode is used to open a file for writing. If the file already exists, its contents are truncated. If the file does not exist, a new file is created.\n",
    "a (Append mode): This mode is used to open a file for appending. The file pointer is placed at the end of the file. If the file does not exist, a new file is created.\n",
    "x (Exclusive creation mode): This mode is used to open a file for exclusive creation. If the file already exists, an error is raised.\n",
    "b (Binary mode): This mode is used to open a file in binary mode, which is used for non-text files like images, videos, etc.\n",
    "t (Text mode): This mode is used to open a file in text mode, which is used for text files.\n",
    "+ (Read and write mode): This mode is used to open a file for both reading and writing.\n",
    "\n",
    "# Read mode\n",
    "file = open(\"example.txt\", \"r\")\n",
    "content = file.read()\n",
    "print(content)\n",
    "file.close()\n",
    "\n",
    "# Write mode\n",
    "file = open(\"example.txt\", \"w\")\n",
    "file.write(\"Hello, World!\")\n",
    "file.close()\n",
    "\n",
    "# Append mode\n",
    "file = open(\"example.txt\", \"a\")\n",
    "file.write(\"\\nThis is a new line.\")\n",
    "file.close()\n",
    "\n",
    "# Binary mode\n",
    "file = open(\"example.jpg\", \"rb\")\n",
    "content = file.read()\n",
    "file.close()\n",
    "\n",
    "# Text mode\n",
    "file = open(\"example.txt\", \"rt\")\n",
    "content = file.read()\n",
    "file.close()\n",
    "\n",
    "# Read and write mode\n",
    "file = open(\"example.txt\", \"r+\")\n",
    "content = file.read()\n",
    "file.write(\"\\nThis is a new line.\")\n",
    "file.close()    "
   ]
  },
  {
   "cell_type": "code",
   "execution_count": null,
   "id": "76acbabf",
   "metadata": {},
   "outputs": [],
   "source": [
    "Q2. Why close() function is used? Why is it important to close a file?\n",
    "Ans2. The close() function is used to close an open file in Python. When a file is opened using the open() function.\n",
    "(i) Closing a file releases the resources that were allocated to it. If you don't close a file, it will continue to occupy system resources until the program terminates, which can lead to performance issues.\n",
    "(ii) Closing a file ensures that all the data that was written to it is properly flushed to disk. If you don't close a file, some of the data that was written to it may still be in memory and may not have been written to disk yet. This can result in data loss or corruption.\n",
    "\n",
    "file = open(\"example.txt\", \"r\")\n",
    "content = file.read()\n",
    "print(content)\n",
    "file.close()"
   ]
  },
  {
   "cell_type": "code",
   "execution_count": null,
   "id": "570999fc",
   "metadata": {},
   "outputs": [],
   "source": [
    "Q3. Write a python program to create a text file. Write ‘I want to become a Data Scientist’ in that file. Then close the file. Open this file and read the content of the file.\n",
    "Ans3. # Open a file in write mode\n",
    "file = open(\"example.txt\", \"w\")\n",
    "\n",
    "# Write a string to the file\n",
    "file.write(\"I want to become a Data Scientist\")\n",
    "\n",
    "# Close the file\n",
    "file.close()\n",
    "\n",
    "# Open the file in read mode\n",
    "file = open(\"example.txt\", \"r\")\n",
    "\n",
    "# Read the contents of the file\n",
    "content = file.read()\n",
    "\n",
    "# Print the contents of the file\n",
    "print(content)\n",
    "\n",
    "# Close the file\n",
    "file.close()\n"
   ]
  },
  {
   "cell_type": "code",
   "execution_count": null,
   "id": "daa61dc3",
   "metadata": {},
   "outputs": [],
   "source": [
    "Q4. Explain the following with python code: read(), readline() and readlines()?\n",
    "Ans4. read(): This method reads the entire contents of a file and returns it as a string. \n",
    "file = open(\"example.txt\", \"r\")\n",
    "content = file.read()\n",
    "\n",
    "readline(): This method reads a single line from a file and returns it as a string.\n",
    "file = open(\"example.txt\", \"r\")\n",
    "line = file.readline()\n",
    "\n",
    "readlines(): This method reads all the lines from a file and returns them as a list of strings. Each string in the list represents a single line from the file. \n",
    "file = open(\"example.txt\", \"r\")\n",
    "lines = file.readlines()\n",
    "   "
   ]
  },
  {
   "cell_type": "code",
   "execution_count": null,
   "id": "939128b6",
   "metadata": {},
   "outputs": [],
   "source": [
    "Q5. Explain why with statement is used with open(). What is the advantage of using with statement and open() together?\n",
    "Ans5. In Python, the with statement is used with open() to ensure that a file is properly closed after it has been used. The advantage of using with statement and open() together is that it automatically takes care of closing the file after the block of code is executed, even if an exception is raised during the execution of the block.\n",
    "with open(\"example.txt\", \"r\") as file:\n",
    "    content = file.read()\n",
    "    print(content)"
   ]
  },
  {
   "cell_type": "code",
   "execution_count": null,
   "id": "cf505c2c",
   "metadata": {},
   "outputs": [],
   "source": [
    "Q6. Explain the write() and writelines() functions. Give a suitable example?\n",
    "Ans6. In Python, the write() function is used to write a single string to a file, while the writelines() function is used to write multiple strings to a file. Both functions are used to write data to a file in write mode.\n",
    "with open(\"example.txt\", \"w\") as file:\n",
    "    file.write(\"This is an example of using the write() function in Python.\")\n",
    "\n",
    "with open(\"example.txt\", \"w\") as file:\n",
    "    lines = [\"This is the first line.\\n\", \"This is the second line.\\n\", \"This is the third line.\\n\"]\n",
    "    file.writelines(lines)\n"
   ]
  }
 ],
 "metadata": {
  "kernelspec": {
   "display_name": "Python 3 (ipykernel)",
   "language": "python",
   "name": "python3"
  },
  "language_info": {
   "codemirror_mode": {
    "name": "ipython",
    "version": 3
   },
   "file_extension": ".py",
   "mimetype": "text/x-python",
   "name": "python",
   "nbconvert_exporter": "python",
   "pygments_lexer": "ipython3",
   "version": "3.9.13"
  }
 },
 "nbformat": 4,
 "nbformat_minor": 5
}
